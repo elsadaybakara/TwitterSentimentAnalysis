{
  "nbformat": 4,
  "nbformat_minor": 0,
  "metadata": {
    "colab": {
      "name": "Twitter Sentiment Analysis ",
      "provenance": [],
      "collapsed_sections": []
    },
    "kernelspec": {
      "name": "python3",
      "display_name": "Python 3"
    },
    "language_info": {
      "name": "python"
    }
  },
  "cells": [
    {
      "cell_type": "markdown",
      "source": [
        "#Twitter Sentiment Analysis\n",
        "\n",
        "Aranged by StudentID-StudentName:\n",
        "\n",
        "12S18033-Cristina Sriwahyuni Hasibuan\n",
        "\n",
        "12S18038-Naomi A. Simatupang\n",
        "\n",
        "12S18049-Natasya Sitorus\n",
        "\n",
        "12S18060-Elsaday Bakara"
      ],
      "metadata": {
        "id": "K3-RVRXZ5fve"
      }
    },
    {
      "cell_type": "markdown",
      "source": [
        "##Requirements installation if not exist yet"
      ],
      "metadata": {
        "id": "46dk25eHmhJ0"
      }
    },
    {
      "cell_type": "code",
      "execution_count": null,
      "metadata": {
        "id": "Xi-NhSE8w5wh",
        "colab": {
          "base_uri": "https://localhost:8080/"
        },
        "outputId": "7450df7b-8c81-4f67-9e62-7e29121f9db1"
      },
      "outputs": [
        {
          "output_type": "stream",
          "name": "stdout",
          "text": [
            "Looking in indexes: https://pypi.org/simple, https://us-python.pkg.dev/colab-wheels/public/simple/\n",
            "Collecting pyspark\n",
            "  Downloading pyspark-3.2.1.tar.gz (281.4 MB)\n",
            "\u001b[K     |████████████████████████████████| 281.4 MB 28 kB/s \n",
            "\u001b[?25hCollecting py4j==0.10.9.3\n",
            "  Downloading py4j-0.10.9.3-py2.py3-none-any.whl (198 kB)\n",
            "\u001b[K     |████████████████████████████████| 198 kB 45.4 MB/s \n",
            "\u001b[?25hBuilding wheels for collected packages: pyspark\n",
            "  Building wheel for pyspark (setup.py) ... \u001b[?25l\u001b[?25hdone\n",
            "  Created wheel for pyspark: filename=pyspark-3.2.1-py2.py3-none-any.whl size=281853642 sha256=b527a80bcc704c1994146d3e655857d3f05e0c91d0dce0c319ef73ff96a5ab75\n",
            "  Stored in directory: /root/.cache/pip/wheels/9f/f5/07/7cd8017084dce4e93e84e92efd1e1d5334db05f2e83bcef74f\n",
            "Successfully built pyspark\n",
            "Installing collected packages: py4j, pyspark\n",
            "Successfully installed py4j-0.10.9.3 pyspark-3.2.1\n"
          ]
        }
      ],
      "source": [
        "pip install pyspark"
      ]
    },
    {
      "cell_type": "code",
      "source": [
        "pip install requests"
      ],
      "metadata": {
        "colab": {
          "base_uri": "https://localhost:8080/"
        },
        "id": "IqhebfZ9Ak1r",
        "outputId": "06f48f5a-b5f0-4fb5-e148-9ecd36934b8c"
      },
      "execution_count": null,
      "outputs": [
        {
          "output_type": "stream",
          "name": "stdout",
          "text": [
            "Looking in indexes: https://pypi.org/simple, https://us-python.pkg.dev/colab-wheels/public/simple/\n",
            "Requirement already satisfied: requests in /usr/local/lib/python3.7/dist-packages (2.23.0)\n",
            "Requirement already satisfied: urllib3!=1.25.0,!=1.25.1,<1.26,>=1.21.1 in /usr/local/lib/python3.7/dist-packages (from requests) (1.24.3)\n",
            "Requirement already satisfied: chardet<4,>=3.0.2 in /usr/local/lib/python3.7/dist-packages (from requests) (3.0.4)\n",
            "Requirement already satisfied: certifi>=2017.4.17 in /usr/local/lib/python3.7/dist-packages (from requests) (2022.5.18.1)\n",
            "Requirement already satisfied: idna<3,>=2.5 in /usr/local/lib/python3.7/dist-packages (from requests) (2.10)\n"
          ]
        }
      ]
    },
    {
      "cell_type": "code",
      "source": [
        "pip install tweepy"
      ],
      "metadata": {
        "colab": {
          "base_uri": "https://localhost:8080/"
        },
        "id": "JEfxc0otWzKi",
        "outputId": "5e477c62-9e31-45f6-a2b3-df0945957327"
      },
      "execution_count": null,
      "outputs": [
        {
          "output_type": "stream",
          "name": "stdout",
          "text": [
            "Looking in indexes: https://pypi.org/simple, https://us-python.pkg.dev/colab-wheels/public/simple/\n",
            "Requirement already satisfied: tweepy in /usr/local/lib/python3.7/dist-packages (3.10.0)\n",
            "Requirement already satisfied: requests[socks]>=2.11.1 in /usr/local/lib/python3.7/dist-packages (from tweepy) (2.23.0)\n",
            "Requirement already satisfied: six>=1.10.0 in /usr/local/lib/python3.7/dist-packages (from tweepy) (1.15.0)\n",
            "Requirement already satisfied: requests-oauthlib>=0.7.0 in /usr/local/lib/python3.7/dist-packages (from tweepy) (1.3.1)\n",
            "Requirement already satisfied: oauthlib>=3.0.0 in /usr/local/lib/python3.7/dist-packages (from requests-oauthlib>=0.7.0->tweepy) (3.2.0)\n",
            "Requirement already satisfied: urllib3!=1.25.0,!=1.25.1,<1.26,>=1.21.1 in /usr/local/lib/python3.7/dist-packages (from requests[socks]>=2.11.1->tweepy) (1.24.3)\n",
            "Requirement already satisfied: idna<3,>=2.5 in /usr/local/lib/python3.7/dist-packages (from requests[socks]>=2.11.1->tweepy) (2.10)\n",
            "Requirement already satisfied: chardet<4,>=3.0.2 in /usr/local/lib/python3.7/dist-packages (from requests[socks]>=2.11.1->tweepy) (3.0.4)\n",
            "Requirement already satisfied: certifi>=2017.4.17 in /usr/local/lib/python3.7/dist-packages (from requests[socks]>=2.11.1->tweepy) (2022.5.18.1)\n",
            "Requirement already satisfied: PySocks!=1.5.7,>=1.5.6 in /usr/local/lib/python3.7/dist-packages (from requests[socks]>=2.11.1->tweepy) (1.7.1)\n"
          ]
        }
      ]
    },
    {
      "cell_type": "code",
      "source": [
        "pip install preprocessor"
      ],
      "metadata": {
        "colab": {
          "base_uri": "https://localhost:8080/"
        },
        "id": "ASZHkUm5GCMY",
        "outputId": "dc0e9533-9e1b-4f5b-b389-9fd14ebd1eff"
      },
      "execution_count": null,
      "outputs": [
        {
          "output_type": "stream",
          "name": "stdout",
          "text": [
            "Looking in indexes: https://pypi.org/simple, https://us-python.pkg.dev/colab-wheels/public/simple/\n",
            "Collecting preprocessor\n",
            "  Downloading preprocessor-1.1.3.tar.gz (4.2 kB)\n",
            "Building wheels for collected packages: preprocessor\n",
            "  Building wheel for preprocessor (setup.py) ... \u001b[?25l\u001b[?25hdone\n",
            "  Created wheel for preprocessor: filename=preprocessor-1.1.3-py3-none-any.whl size=4477 sha256=ff37c278099d3b59133f1d2f767679119108cc2f097bf8d15ad17471c006c666\n",
            "  Stored in directory: /root/.cache/pip/wheels/0e/b7/36/aa37256db62b4bfd35a6f1b5536e9ba843f257b79dcbf3d5f1\n",
            "Successfully built preprocessor\n",
            "Installing collected packages: preprocessor\n",
            "Successfully installed preprocessor-1.1.3\n"
          ]
        }
      ]
    },
    {
      "cell_type": "code",
      "source": [
        "pip install utils"
      ],
      "metadata": {
        "colab": {
          "base_uri": "https://localhost:8080/"
        },
        "id": "bRDTnC1FAL9I",
        "outputId": "955c8f6c-a707-4a21-c080-f976287c5f77"
      },
      "execution_count": null,
      "outputs": [
        {
          "output_type": "stream",
          "name": "stdout",
          "text": [
            "Looking in indexes: https://pypi.org/simple, https://us-python.pkg.dev/colab-wheels/public/simple/\n",
            "Collecting utils\n",
            "  Downloading utils-1.0.1-py2.py3-none-any.whl (21 kB)\n",
            "Installing collected packages: utils\n",
            "Successfully installed utils-1.0.1\n"
          ]
        }
      ]
    },
    {
      "cell_type": "code",
      "source": [
        "pip install keras"
      ],
      "metadata": {
        "colab": {
          "base_uri": "https://localhost:8080/"
        },
        "id": "49Jo22W_MacV",
        "outputId": "f0fa95ab-ec48-4b0a-fb38-08cf4e542e52"
      },
      "execution_count": null,
      "outputs": [
        {
          "output_type": "stream",
          "name": "stdout",
          "text": [
            "Looking in indexes: https://pypi.org/simple, https://us-python.pkg.dev/colab-wheels/public/simple/\n",
            "Requirement already satisfied: keras in /usr/local/lib/python3.7/dist-packages (2.8.0)\n"
          ]
        }
      ]
    },
    {
      "cell_type": "code",
      "source": [
        "pip install findspark"
      ],
      "metadata": {
        "colab": {
          "base_uri": "https://localhost:8080/"
        },
        "id": "pwk6L4VxHaGL",
        "outputId": "4787a83a-892c-4540-d228-7382f4e7d812"
      },
      "execution_count": null,
      "outputs": [
        {
          "output_type": "stream",
          "name": "stdout",
          "text": [
            "Looking in indexes: https://pypi.org/simple, https://us-python.pkg.dev/colab-wheels/public/simple/\n",
            "Collecting findspark\n",
            "  Downloading findspark-2.0.1-py2.py3-none-any.whl (4.4 kB)\n",
            "Installing collected packages: findspark\n",
            "Successfully installed findspark-2.0.1\n"
          ]
        }
      ]
    },
    {
      "cell_type": "markdown",
      "source": [
        "##Import Lib"
      ],
      "metadata": {
        "id": "ZxpwCA3P-npR"
      }
    },
    {
      "cell_type": "code",
      "source": [
        "import pyspark\n",
        "from pyspark.sql import DataFrame\n",
        "from pyspark.ml.classification import LogisticRegression, LinearSVC, NaiveBayes\n",
        "import json\n",
        "import csv\n",
        "import nltk\n",
        "from nltk.tokenize import word_tokenize\n",
        "import re\n",
        "import datetime\n",
        "import numpy as np\n",
        "import pandas as pd\n",
        "import matplotlib.pyplot as plt\n",
        "import seaborn as sns\n",
        "%matplotlib inline\n",
        "import tweepy\n",
        "from tweepy import OAuthHandler\n",
        "from tweepy import Stream\n",
        "from collections import Counter\n",
        "from plotly import graph_objs as go\n",
        "import plotly.express as px\n",
        "import plotly.figure_factory as ff\n",
        "from pyspark.sql.types import StringType\n",
        "from pyspark.sql.functions import col, udf\n",
        "from pyspark.ml.feature import Tokenizer, StringIndexer, Word2Vec, StopWordsRemover, HashingTF\n",
        "from pyspark.ml import Pipeline, Transformer\n",
        "from pyspark.ml.evaluation import MulticlassClassificationEvaluator\n",
        "from pyspark.mllib.evaluation import MulticlassMetrics"
      ],
      "metadata": {
        "id": "cFjFe3t1Gl3Y"
      },
      "execution_count": 62,
      "outputs": []
    },
    {
      "cell_type": "code",
      "source": [
        "from wordcloud import WordCloud, STOPWORDS\n",
        "from datetime import timedelta, datetime\n",
        "from nltk.tokenize import word_tokenize\n",
        "from nltk.stem import PorterStemmer\n",
        "import matplotlib.pyplot as plt \n",
        "from tweepy import OAuthHandler\n",
        "from textblob import TextBlob\n",
        "import preprocessor as p\n",
        "import seaborn as sns\n",
        "import pandas as pd\n",
        "import numpy as np\n",
        "import tweepy\n",
        "import csv\n",
        "import nltk\n",
        "nltk.download('punkt')"
      ],
      "metadata": {
        "colab": {
          "base_uri": "https://localhost:8080/"
        },
        "id": "BcS_1xmPF-Mw",
        "outputId": "1f5c1d62-e55f-48e4-e9e0-f10acb8f0c6c"
      },
      "execution_count": 63,
      "outputs": [
        {
          "output_type": "stream",
          "name": "stdout",
          "text": [
            "[nltk_data] Downloading package punkt to /root/nltk_data...\n",
            "[nltk_data]   Package punkt is already up-to-date!\n"
          ]
        },
        {
          "output_type": "execute_result",
          "data": {
            "text/plain": [
              "True"
            ]
          },
          "metadata": {},
          "execution_count": 63
        }
      ]
    },
    {
      "cell_type": "code",
      "source": [
        "# Import some libraries\n",
        "\n",
        "import pandas as pd\n",
        "pd.options.mode.chained_assignment = None\n",
        "import numpy as np\n",
        "seed = 0\n",
        "np.random.seed(seed)\n",
        "import matplotlib.pyplot as plt\n",
        "import seaborn as sns\n",
        "sns.set(style = 'whitegrid')\n",
        "\n",
        "import datetime as dt\n",
        "import re\n",
        "import string\n",
        "from nltk.tokenize import word_tokenize\n",
        "from nltk.corpus import stopwords\n",
        "from wordcloud import WordCloud\n",
        "\n",
        "from keras.preprocessing.text import Tokenizer\n",
        "from keras.preprocessing.sequence import pad_sequences\n",
        "from sklearn.model_selection import train_test_split\n",
        "from sklearn.metrics import accuracy_score\n",
        "from keras.models import Sequential\n",
        "from keras.layers import Embedding, Dense, Dropout, LSTM\n",
        "from keras.callbacks import EarlyStopping\n",
        "from keras.wrappers.scikit_learn import KerasClassifier\n",
        "from sklearn.model_selection import GridSearchCV\n",
        "from mlxtend.plotting import plot_confusion_matrix\n",
        "from sklearn.metrics import confusion_matrix"
      ],
      "metadata": {
        "id": "mmvN0TIGMEVI"
      },
      "execution_count": 64,
      "outputs": []
    },
    {
      "cell_type": "code",
      "source": [
        "import findspark\n",
        "findspark.init()\n",
        "import pyspark as ps\n",
        "import warnings\n",
        "from pyspark.sql import SQLContext"
      ],
      "metadata": {
        "id": "g1Xoxl25HWeO"
      },
      "execution_count": 65,
      "outputs": []
    },
    {
      "cell_type": "markdown",
      "source": [
        "#Start a Session"
      ],
      "metadata": {
        "id": "meQqOM5UaOsR"
      }
    },
    {
      "cell_type": "code",
      "source": [
        "#Memulai Spark Session\n",
        "try:\n",
        "    from pyspark.sql import SparkSession\n",
        "    sc = ps.SparkContext('local[2]')\n",
        "    sqlContext = SQLContext(sc)\n",
        "    spark = SparkSession.builder \\\n",
        "      .master(\"local[2]\") \\\n",
        "      .appName(\"Proyek_Sentiment Analysis\") \\\n",
        "      .getOrCreate()\n",
        "except ValueError:\n",
        "    warnings.warn(\"SparkContext already exists in this scope\")"
      ],
      "metadata": {
        "id": "OhsszDzzG0Qp",
        "colab": {
          "base_uri": "https://localhost:8080/"
        },
        "outputId": "b096181f-dc80-4860-ae70-5a29ea12d1aa"
      },
      "execution_count": 66,
      "outputs": [
        {
          "output_type": "stream",
          "name": "stderr",
          "text": [
            "/usr/local/lib/python3.7/dist-packages/ipykernel_launcher.py:8: UserWarning: SparkContext already exists in this scope\n",
            "  \n"
          ]
        }
      ]
    },
    {
      "cell_type": "code",
      "source": [
        "spark"
      ],
      "metadata": {
        "colab": {
          "base_uri": "https://localhost:8080/",
          "height": 219
        },
        "id": "0dsmNXoEcPH9",
        "outputId": "54c37895-5197-4d21-927b-c563db05d1ff"
      },
      "execution_count": 67,
      "outputs": [
        {
          "output_type": "execute_result",
          "data": {
            "text/plain": [
              "<pyspark.sql.session.SparkSession at 0x7f2758b23390>"
            ],
            "text/html": [
              "\n",
              "            <div>\n",
              "                <p><b>SparkSession - in-memory</b></p>\n",
              "                \n",
              "        <div>\n",
              "            <p><b>SparkContext</b></p>\n",
              "\n",
              "            <p><a href=\"http://0352b3b04533:4040\">Spark UI</a></p>\n",
              "\n",
              "            <dl>\n",
              "              <dt>Version</dt>\n",
              "                <dd><code>v3.2.1</code></dd>\n",
              "              <dt>Master</dt>\n",
              "                <dd><code>local[2]</code></dd>\n",
              "              <dt>AppName</dt>\n",
              "                <dd><code>pyspark-shell</code></dd>\n",
              "            </dl>\n",
              "        </div>\n",
              "        \n",
              "            </div>\n",
              "        "
            ]
          },
          "metadata": {},
          "execution_count": 67
        }
      ]
    },
    {
      "cell_type": "markdown",
      "source": [
        "##Configuration"
      ],
      "metadata": {
        "id": "NCqJdwHUmVRW"
      }
    },
    {
      "cell_type": "code",
      "source": [
        "APIKey = \"QnupptSEsqShuukhaPGsk0Svf\"\n",
        "APISecretKey = \"HuD4bnPtEZcE1IVFDcluzuYcngbSMMYxKyfYA8MTXPUYZvn4N0\"\n",
        "AccessToken = \"1390698546353999878-KExzyOWL2qm1zfmxZdrYmcnkaVbjue\"\n",
        "AccessTokenSecret = \"dkEkoVa4QwW3Z8Rzvau6r37C7DhnUPU2zu91P6GZmm7Ec\"\n",
        "BearerToken =\"AAAAAAAAAAAAAAAAAAAAALP5cAEAAAAACkdJeE7i23YH3L4qeYWpvoeqZAA%3DoOefkiPYcftGrIzdm9YgPi7hnYrI6ymuojs6031Dd5K5U7CWul\""
      ],
      "metadata": {
        "id": "6ZabgOxHhJSt"
      },
      "execution_count": 68,
      "outputs": []
    },
    {
      "cell_type": "code",
      "source": [
        "TrackWords = ['covid']"
      ],
      "metadata": {
        "id": "4zs69ewilZFX"
      },
      "execution_count": 69,
      "outputs": []
    },
    {
      "cell_type": "code",
      "source": [
        "today = datetime.today().strftime(\"%Y-%m-%d\")\n",
        "last_week = datetime.today() - timedelta(7)\n",
        "last_week = last_week.strftime(\"%Y-%m-%d\")\n",
        "\n",
        "date_since = last_week\n",
        "date_until = today"
      ],
      "metadata": {
        "id": "ovFWzMnqF0VQ"
      },
      "execution_count": 70,
      "outputs": []
    },
    {
      "cell_type": "markdown",
      "source": [
        "##Set Up"
      ],
      "metadata": {
        "id": "bccZ9r4N37V9"
      }
    },
    {
      "cell_type": "code",
      "source": [
        "def connectOAuth():\n",
        "    auth = OAuthHandler(APIKey, APISecretKey)\n",
        "    auth.set_access_token(AccessToken, AccessTokenSecret)\n",
        "\n",
        "    api = tweepy.API(auth, wait_on_rate_limit=True)\n",
        "    return api"
      ],
      "metadata": {
        "id": "ZS6_knNj3g8U"
      },
      "execution_count": 71,
      "outputs": []
    },
    {
      "cell_type": "code",
      "source": [
        "API = connectOAuth()"
      ],
      "metadata": {
        "id": "Ffd2bEep5DwZ"
      },
      "execution_count": 72,
      "outputs": []
    },
    {
      "cell_type": "markdown",
      "source": [
        "#Scrapping"
      ],
      "metadata": {
        "id": "63gYJ5Zc0tfD"
      }
    },
    {
      "cell_type": "code",
      "source": [
        "def scraptweets(search_words, date_since, date_until):\n",
        "\n",
        "    db_tweets = pd.DataFrame(columns=['username', 'tweetcreatedts', 'text'])\n",
        "\n",
        "    tweets = tweepy.Cursor(\n",
        "                    API.search,\n",
        "                    q=search_words,\n",
        "                    lang=\"id\", \n",
        "                    since=date_since,\n",
        "                    until=date_until,\n",
        "                    tweet_mode='extended').items(5000)\n",
        "\n",
        "    tweet_list = [tweet for tweet in tweets]\n",
        "\n",
        "    for tweet in tweet_list:\n",
        "        username = tweet.user.screen_name\n",
        "        tweetcreatedts = tweet.created_at\n",
        "\n",
        "        try:\n",
        "            text = tweet.retweeted_status.full_text\n",
        "        except AttributeError:\n",
        "            text = tweet.full_text\n",
        "\n",
        "        ith_tweet = [username, tweetcreatedts, text]\n",
        "\n",
        "        db_tweets.loc[len(db_tweets)] = ith_tweet\n",
        "    \n",
        "    print('Proses Scrapping Selesai Dengan Jumlah Data', len(db_tweets))\n",
        "    filename = 'reviews.csv'\n",
        "    db_tweets.to_csv(filename, index=False)"
      ],
      "metadata": {
        "id": "lbMDz8MqFtzQ"
      },
      "execution_count": 73,
      "outputs": []
    },
    {
      "cell_type": "code",
      "source": [
        "scraptweets(TrackWords, date_since, date_until)"
      ],
      "metadata": {
        "id": "ellQLwxrFt2a",
        "colab": {
          "base_uri": "https://localhost:8080/"
        },
        "outputId": "875b2975-947e-4dc0-d746-e5344f805b94"
      },
      "execution_count": 74,
      "outputs": [
        {
          "output_type": "stream",
          "name": "stdout",
          "text": [
            "Proses Scrapping Selesai Dengan Jumlah Data 1621\n"
          ]
        }
      ]
    },
    {
      "cell_type": "markdown",
      "source": [
        "#Load Raw Data Twitter"
      ],
      "metadata": {
        "id": "9QXHyFms80D8"
      }
    },
    {
      "cell_type": "code",
      "source": [
        "df = pd.read_csv('/content/reviews.csv', delimiter=\",\")"
      ],
      "metadata": {
        "id": "q1NgTjzj-HO8"
      },
      "execution_count": 75,
      "outputs": []
    },
    {
      "cell_type": "code",
      "source": [
        "print(type(df))"
      ],
      "metadata": {
        "colab": {
          "base_uri": "https://localhost:8080/"
        },
        "id": "0qC3nDvaHNcQ",
        "outputId": "0a9fe232-8fb6-468c-ee51-f06c555e50bc"
      },
      "execution_count": 76,
      "outputs": [
        {
          "output_type": "stream",
          "name": "stdout",
          "text": [
            "<class 'pandas.core.frame.DataFrame'>\n"
          ]
        }
      ]
    },
    {
      "cell_type": "code",
      "source": [
        "df.describe()"
      ],
      "metadata": {
        "colab": {
          "base_uri": "https://localhost:8080/",
          "height": 175
        },
        "id": "pnJo-hxvuRKU",
        "outputId": "ab4e4201-e4f5-45f1-edf8-da99f0c69865"
      },
      "execution_count": 77,
      "outputs": [
        {
          "output_type": "execute_result",
          "data": {
            "text/plain": [
              "         username       tweetcreatedts  \\\n",
              "count        1621                 1621   \n",
              "unique       1300                 1575   \n",
              "top     sonia_rhm  2022-06-04 12:57:45   \n",
              "freq           24                    3   \n",
              "\n",
              "                                                     text  \n",
              "count                                                1621  \n",
              "unique                                                813  \n",
              "top     Beranikah pemerintah jujur bicara bahwa RS cov...  \n",
              "freq                                                  395  "
            ],
            "text/html": [
              "\n",
              "  <div id=\"df-beed4298-3603-49a6-bcaa-ba12ec7a262d\">\n",
              "    <div class=\"colab-df-container\">\n",
              "      <div>\n",
              "<style scoped>\n",
              "    .dataframe tbody tr th:only-of-type {\n",
              "        vertical-align: middle;\n",
              "    }\n",
              "\n",
              "    .dataframe tbody tr th {\n",
              "        vertical-align: top;\n",
              "    }\n",
              "\n",
              "    .dataframe thead th {\n",
              "        text-align: right;\n",
              "    }\n",
              "</style>\n",
              "<table border=\"1\" class=\"dataframe\">\n",
              "  <thead>\n",
              "    <tr style=\"text-align: right;\">\n",
              "      <th></th>\n",
              "      <th>username</th>\n",
              "      <th>tweetcreatedts</th>\n",
              "      <th>text</th>\n",
              "    </tr>\n",
              "  </thead>\n",
              "  <tbody>\n",
              "    <tr>\n",
              "      <th>count</th>\n",
              "      <td>1621</td>\n",
              "      <td>1621</td>\n",
              "      <td>1621</td>\n",
              "    </tr>\n",
              "    <tr>\n",
              "      <th>unique</th>\n",
              "      <td>1300</td>\n",
              "      <td>1575</td>\n",
              "      <td>813</td>\n",
              "    </tr>\n",
              "    <tr>\n",
              "      <th>top</th>\n",
              "      <td>sonia_rhm</td>\n",
              "      <td>2022-06-04 12:57:45</td>\n",
              "      <td>Beranikah pemerintah jujur bicara bahwa RS cov...</td>\n",
              "    </tr>\n",
              "    <tr>\n",
              "      <th>freq</th>\n",
              "      <td>24</td>\n",
              "      <td>3</td>\n",
              "      <td>395</td>\n",
              "    </tr>\n",
              "  </tbody>\n",
              "</table>\n",
              "</div>\n",
              "      <button class=\"colab-df-convert\" onclick=\"convertToInteractive('df-beed4298-3603-49a6-bcaa-ba12ec7a262d')\"\n",
              "              title=\"Convert this dataframe to an interactive table.\"\n",
              "              style=\"display:none;\">\n",
              "        \n",
              "  <svg xmlns=\"http://www.w3.org/2000/svg\" height=\"24px\"viewBox=\"0 0 24 24\"\n",
              "       width=\"24px\">\n",
              "    <path d=\"M0 0h24v24H0V0z\" fill=\"none\"/>\n",
              "    <path d=\"M18.56 5.44l.94 2.06.94-2.06 2.06-.94-2.06-.94-.94-2.06-.94 2.06-2.06.94zm-11 1L8.5 8.5l.94-2.06 2.06-.94-2.06-.94L8.5 2.5l-.94 2.06-2.06.94zm10 10l.94 2.06.94-2.06 2.06-.94-2.06-.94-.94-2.06-.94 2.06-2.06.94z\"/><path d=\"M17.41 7.96l-1.37-1.37c-.4-.4-.92-.59-1.43-.59-.52 0-1.04.2-1.43.59L10.3 9.45l-7.72 7.72c-.78.78-.78 2.05 0 2.83L4 21.41c.39.39.9.59 1.41.59.51 0 1.02-.2 1.41-.59l7.78-7.78 2.81-2.81c.8-.78.8-2.07 0-2.86zM5.41 20L4 18.59l7.72-7.72 1.47 1.35L5.41 20z\"/>\n",
              "  </svg>\n",
              "      </button>\n",
              "      \n",
              "  <style>\n",
              "    .colab-df-container {\n",
              "      display:flex;\n",
              "      flex-wrap:wrap;\n",
              "      gap: 12px;\n",
              "    }\n",
              "\n",
              "    .colab-df-convert {\n",
              "      background-color: #E8F0FE;\n",
              "      border: none;\n",
              "      border-radius: 50%;\n",
              "      cursor: pointer;\n",
              "      display: none;\n",
              "      fill: #1967D2;\n",
              "      height: 32px;\n",
              "      padding: 0 0 0 0;\n",
              "      width: 32px;\n",
              "    }\n",
              "\n",
              "    .colab-df-convert:hover {\n",
              "      background-color: #E2EBFA;\n",
              "      box-shadow: 0px 1px 2px rgba(60, 64, 67, 0.3), 0px 1px 3px 1px rgba(60, 64, 67, 0.15);\n",
              "      fill: #174EA6;\n",
              "    }\n",
              "\n",
              "    [theme=dark] .colab-df-convert {\n",
              "      background-color: #3B4455;\n",
              "      fill: #D2E3FC;\n",
              "    }\n",
              "\n",
              "    [theme=dark] .colab-df-convert:hover {\n",
              "      background-color: #434B5C;\n",
              "      box-shadow: 0px 1px 3px 1px rgba(0, 0, 0, 0.15);\n",
              "      filter: drop-shadow(0px 1px 2px rgba(0, 0, 0, 0.3));\n",
              "      fill: #FFFFFF;\n",
              "    }\n",
              "  </style>\n",
              "\n",
              "      <script>\n",
              "        const buttonEl =\n",
              "          document.querySelector('#df-beed4298-3603-49a6-bcaa-ba12ec7a262d button.colab-df-convert');\n",
              "        buttonEl.style.display =\n",
              "          google.colab.kernel.accessAllowed ? 'block' : 'none';\n",
              "\n",
              "        async function convertToInteractive(key) {\n",
              "          const element = document.querySelector('#df-beed4298-3603-49a6-bcaa-ba12ec7a262d');\n",
              "          const dataTable =\n",
              "            await google.colab.kernel.invokeFunction('convertToInteractive',\n",
              "                                                     [key], {});\n",
              "          if (!dataTable) return;\n",
              "\n",
              "          const docLinkHtml = 'Like what you see? Visit the ' +\n",
              "            '<a target=\"_blank\" href=https://colab.research.google.com/notebooks/data_table.ipynb>data table notebook</a>'\n",
              "            + ' to learn more about interactive tables.';\n",
              "          element.innerHTML = '';\n",
              "          dataTable['output_type'] = 'display_data';\n",
              "          await google.colab.output.renderOutput(dataTable, element);\n",
              "          const docLink = document.createElement('div');\n",
              "          docLink.innerHTML = docLinkHtml;\n",
              "          element.appendChild(docLink);\n",
              "        }\n",
              "      </script>\n",
              "    </div>\n",
              "  </div>\n",
              "  "
            ]
          },
          "metadata": {},
          "execution_count": 77
        }
      ]
    },
    {
      "cell_type": "code",
      "source": [
        "df.head(10)"
      ],
      "metadata": {
        "id": "_wlJkRM1VDAi",
        "colab": {
          "base_uri": "https://localhost:8080/",
          "height": 363
        },
        "outputId": "e7a3c72f-159a-44df-86d5-6203776122c7"
      },
      "execution_count": 78,
      "outputs": [
        {
          "output_type": "execute_result",
          "data": {
            "text/plain": [
              "         username       tweetcreatedts  \\\n",
              "0       gwenkyute  2022-06-04 23:59:44   \n",
              "1  UrGirl_404Eror  2022-06-04 23:59:40   \n",
              "2  lefthandtrader  2022-06-04 23:59:03   \n",
              "3    TabananHumas  2022-06-04 23:58:46   \n",
              "4    TabananHumas  2022-06-04 23:58:37   \n",
              "5     ridhorahadi  2022-06-04 23:58:33   \n",
              "6         r_waone  2022-06-04 23:58:17   \n",
              "7       wigRahman  2022-06-04 23:58:11   \n",
              "8   rizwanhafiz91  2022-06-04 23:58:06   \n",
              "9       HexaSetya  2022-06-04 23:57:51   \n",
              "\n",
              "                                                text  \n",
              "0  Kata Siapa Ekonomi Indonesia Menurun?\\n\\nSimak...  \n",
              "1  Setelah tau Jeno Chenle kena Covid dan member ...  \n",
              "2  @fmtoday Klu hadir di parlimen, ada alasan nak...  \n",
              "3  Disiplin Prokes adalah kunci untuk mencegah pe...  \n",
              "4  Ayo vaksinasi Booster untuk meningkatkan imun ...  \n",
              "5  Beranikah pemerintah jujur bicara bahwa RS cov...  \n",
              "6  Beranikah pemerintah jujur bicara bahwa RS cov...  \n",
              "7  Beranikah pemerintah jujur bicara bahwa RS cov...  \n",
              "8  SPRM | Graduan Institusi Pengajian Tinggi (IPT...  \n",
              "9  Beranikah pemerintah jujur bicara bahwa RS cov...  "
            ],
            "text/html": [
              "\n",
              "  <div id=\"df-c2dbf269-d1fc-4ae3-b0c5-593cbd677650\">\n",
              "    <div class=\"colab-df-container\">\n",
              "      <div>\n",
              "<style scoped>\n",
              "    .dataframe tbody tr th:only-of-type {\n",
              "        vertical-align: middle;\n",
              "    }\n",
              "\n",
              "    .dataframe tbody tr th {\n",
              "        vertical-align: top;\n",
              "    }\n",
              "\n",
              "    .dataframe thead th {\n",
              "        text-align: right;\n",
              "    }\n",
              "</style>\n",
              "<table border=\"1\" class=\"dataframe\">\n",
              "  <thead>\n",
              "    <tr style=\"text-align: right;\">\n",
              "      <th></th>\n",
              "      <th>username</th>\n",
              "      <th>tweetcreatedts</th>\n",
              "      <th>text</th>\n",
              "    </tr>\n",
              "  </thead>\n",
              "  <tbody>\n",
              "    <tr>\n",
              "      <th>0</th>\n",
              "      <td>gwenkyute</td>\n",
              "      <td>2022-06-04 23:59:44</td>\n",
              "      <td>Kata Siapa Ekonomi Indonesia Menurun?\\n\\nSimak...</td>\n",
              "    </tr>\n",
              "    <tr>\n",
              "      <th>1</th>\n",
              "      <td>UrGirl_404Eror</td>\n",
              "      <td>2022-06-04 23:59:40</td>\n",
              "      <td>Setelah tau Jeno Chenle kena Covid dan member ...</td>\n",
              "    </tr>\n",
              "    <tr>\n",
              "      <th>2</th>\n",
              "      <td>lefthandtrader</td>\n",
              "      <td>2022-06-04 23:59:03</td>\n",
              "      <td>@fmtoday Klu hadir di parlimen, ada alasan nak...</td>\n",
              "    </tr>\n",
              "    <tr>\n",
              "      <th>3</th>\n",
              "      <td>TabananHumas</td>\n",
              "      <td>2022-06-04 23:58:46</td>\n",
              "      <td>Disiplin Prokes adalah kunci untuk mencegah pe...</td>\n",
              "    </tr>\n",
              "    <tr>\n",
              "      <th>4</th>\n",
              "      <td>TabananHumas</td>\n",
              "      <td>2022-06-04 23:58:37</td>\n",
              "      <td>Ayo vaksinasi Booster untuk meningkatkan imun ...</td>\n",
              "    </tr>\n",
              "    <tr>\n",
              "      <th>5</th>\n",
              "      <td>ridhorahadi</td>\n",
              "      <td>2022-06-04 23:58:33</td>\n",
              "      <td>Beranikah pemerintah jujur bicara bahwa RS cov...</td>\n",
              "    </tr>\n",
              "    <tr>\n",
              "      <th>6</th>\n",
              "      <td>r_waone</td>\n",
              "      <td>2022-06-04 23:58:17</td>\n",
              "      <td>Beranikah pemerintah jujur bicara bahwa RS cov...</td>\n",
              "    </tr>\n",
              "    <tr>\n",
              "      <th>7</th>\n",
              "      <td>wigRahman</td>\n",
              "      <td>2022-06-04 23:58:11</td>\n",
              "      <td>Beranikah pemerintah jujur bicara bahwa RS cov...</td>\n",
              "    </tr>\n",
              "    <tr>\n",
              "      <th>8</th>\n",
              "      <td>rizwanhafiz91</td>\n",
              "      <td>2022-06-04 23:58:06</td>\n",
              "      <td>SPRM | Graduan Institusi Pengajian Tinggi (IPT...</td>\n",
              "    </tr>\n",
              "    <tr>\n",
              "      <th>9</th>\n",
              "      <td>HexaSetya</td>\n",
              "      <td>2022-06-04 23:57:51</td>\n",
              "      <td>Beranikah pemerintah jujur bicara bahwa RS cov...</td>\n",
              "    </tr>\n",
              "  </tbody>\n",
              "</table>\n",
              "</div>\n",
              "      <button class=\"colab-df-convert\" onclick=\"convertToInteractive('df-c2dbf269-d1fc-4ae3-b0c5-593cbd677650')\"\n",
              "              title=\"Convert this dataframe to an interactive table.\"\n",
              "              style=\"display:none;\">\n",
              "        \n",
              "  <svg xmlns=\"http://www.w3.org/2000/svg\" height=\"24px\"viewBox=\"0 0 24 24\"\n",
              "       width=\"24px\">\n",
              "    <path d=\"M0 0h24v24H0V0z\" fill=\"none\"/>\n",
              "    <path d=\"M18.56 5.44l.94 2.06.94-2.06 2.06-.94-2.06-.94-.94-2.06-.94 2.06-2.06.94zm-11 1L8.5 8.5l.94-2.06 2.06-.94-2.06-.94L8.5 2.5l-.94 2.06-2.06.94zm10 10l.94 2.06.94-2.06 2.06-.94-2.06-.94-.94-2.06-.94 2.06-2.06.94z\"/><path d=\"M17.41 7.96l-1.37-1.37c-.4-.4-.92-.59-1.43-.59-.52 0-1.04.2-1.43.59L10.3 9.45l-7.72 7.72c-.78.78-.78 2.05 0 2.83L4 21.41c.39.39.9.59 1.41.59.51 0 1.02-.2 1.41-.59l7.78-7.78 2.81-2.81c.8-.78.8-2.07 0-2.86zM5.41 20L4 18.59l7.72-7.72 1.47 1.35L5.41 20z\"/>\n",
              "  </svg>\n",
              "      </button>\n",
              "      \n",
              "  <style>\n",
              "    .colab-df-container {\n",
              "      display:flex;\n",
              "      flex-wrap:wrap;\n",
              "      gap: 12px;\n",
              "    }\n",
              "\n",
              "    .colab-df-convert {\n",
              "      background-color: #E8F0FE;\n",
              "      border: none;\n",
              "      border-radius: 50%;\n",
              "      cursor: pointer;\n",
              "      display: none;\n",
              "      fill: #1967D2;\n",
              "      height: 32px;\n",
              "      padding: 0 0 0 0;\n",
              "      width: 32px;\n",
              "    }\n",
              "\n",
              "    .colab-df-convert:hover {\n",
              "      background-color: #E2EBFA;\n",
              "      box-shadow: 0px 1px 2px rgba(60, 64, 67, 0.3), 0px 1px 3px 1px rgba(60, 64, 67, 0.15);\n",
              "      fill: #174EA6;\n",
              "    }\n",
              "\n",
              "    [theme=dark] .colab-df-convert {\n",
              "      background-color: #3B4455;\n",
              "      fill: #D2E3FC;\n",
              "    }\n",
              "\n",
              "    [theme=dark] .colab-df-convert:hover {\n",
              "      background-color: #434B5C;\n",
              "      box-shadow: 0px 1px 3px 1px rgba(0, 0, 0, 0.15);\n",
              "      filter: drop-shadow(0px 1px 2px rgba(0, 0, 0, 0.3));\n",
              "      fill: #FFFFFF;\n",
              "    }\n",
              "  </style>\n",
              "\n",
              "      <script>\n",
              "        const buttonEl =\n",
              "          document.querySelector('#df-c2dbf269-d1fc-4ae3-b0c5-593cbd677650 button.colab-df-convert');\n",
              "        buttonEl.style.display =\n",
              "          google.colab.kernel.accessAllowed ? 'block' : 'none';\n",
              "\n",
              "        async function convertToInteractive(key) {\n",
              "          const element = document.querySelector('#df-c2dbf269-d1fc-4ae3-b0c5-593cbd677650');\n",
              "          const dataTable =\n",
              "            await google.colab.kernel.invokeFunction('convertToInteractive',\n",
              "                                                     [key], {});\n",
              "          if (!dataTable) return;\n",
              "\n",
              "          const docLinkHtml = 'Like what you see? Visit the ' +\n",
              "            '<a target=\"_blank\" href=https://colab.research.google.com/notebooks/data_table.ipynb>data table notebook</a>'\n",
              "            + ' to learn more about interactive tables.';\n",
              "          element.innerHTML = '';\n",
              "          dataTable['output_type'] = 'display_data';\n",
              "          await google.colab.output.renderOutput(dataTable, element);\n",
              "          const docLink = document.createElement('div');\n",
              "          docLink.innerHTML = docLinkHtml;\n",
              "          element.appendChild(docLink);\n",
              "        }\n",
              "      </script>\n",
              "    </div>\n",
              "  </div>\n",
              "  "
            ]
          },
          "metadata": {},
          "execution_count": 78
        }
      ]
    },
    {
      "cell_type": "code",
      "source": [
        "df.isnull().sum()"
      ],
      "metadata": {
        "colab": {
          "base_uri": "https://localhost:8080/"
        },
        "id": "yH7UJLcOIV13",
        "outputId": "a4a7d606-0063-4444-95df-3003e012fca2"
      },
      "execution_count": 79,
      "outputs": [
        {
          "output_type": "execute_result",
          "data": {
            "text/plain": [
              "username          0\n",
              "tweetcreatedts    0\n",
              "text              0\n",
              "dtype: int64"
            ]
          },
          "metadata": {},
          "execution_count": 79
        }
      ]
    },
    {
      "cell_type": "markdown",
      "source": [
        "## Cleaning Tweets"
      ],
      "metadata": {
        "id": "WOTmiTb4-gzO"
      }
    },
    {
      "cell_type": "code",
      "source": [
        "df['text'].head(10)"
      ],
      "metadata": {
        "colab": {
          "base_uri": "https://localhost:8080/"
        },
        "id": "ndqm8QbrVGZK",
        "outputId": "8b13cb11-9341-4294-e7df-2b49f9ac40f4"
      },
      "execution_count": 80,
      "outputs": [
        {
          "output_type": "execute_result",
          "data": {
            "text/plain": [
              "0    Kata Siapa Ekonomi Indonesia Menurun?\\n\\nSimak...\n",
              "1    Setelah tau Jeno Chenle kena Covid dan member ...\n",
              "2    @fmtoday Klu hadir di parlimen, ada alasan nak...\n",
              "3    Disiplin Prokes adalah kunci untuk mencegah pe...\n",
              "4    Ayo vaksinasi Booster untuk meningkatkan imun ...\n",
              "5    Beranikah pemerintah jujur bicara bahwa RS cov...\n",
              "6    Beranikah pemerintah jujur bicara bahwa RS cov...\n",
              "7    Beranikah pemerintah jujur bicara bahwa RS cov...\n",
              "8    SPRM | Graduan Institusi Pengajian Tinggi (IPT...\n",
              "9    Beranikah pemerintah jujur bicara bahwa RS cov...\n",
              "Name: text, dtype: object"
            ]
          },
          "metadata": {},
          "execution_count": 80
        }
      ]
    },
    {
      "cell_type": "code",
      "source": [
        "def cleaningText(text):\n",
        "    text = re.sub(r'@[A-Za-z0-9]+', '', text) # remove mentions\n",
        "    text = re.sub(r'#[A-Za-z0-9]+', '', text) # remove hashtag\n",
        "    text = re.sub(r'RT[\\s]', '', text) # remove RT\n",
        "    text = re.sub(r\"http\\S+\", '', text) # remove link\n",
        "    text = re.sub(r'[0-9]+', '', text) # remove numbers\n",
        "\n",
        "    text = text.replace('\\n', ' ') # replace new line into space\n",
        "    text = text.translate(str.maketrans('', '', string.punctuation)) # remove all punctuations\n",
        "    text = text.strip(' ') # remove characters space from both left and right text\n",
        "    return text\n",
        "\n",
        "def casefoldingText(text): # Converting all the characters in a text into lower case\n",
        "    text = text.lower() \n",
        "    return text\n",
        "\n",
        "def tokenizingText(text): # Tokenizing or splitting a string, text into a list of tokens\n",
        "    text = word_tokenize(text) \n",
        "    return text\n",
        "\n",
        "def filteringText(text): # Remove stopwors in a text\n",
        "    listStopwords = set(pd.read_csv('/content/stopwords-id.txt'))\n",
        "    filtered = []\n",
        "    for txt in text:\n",
        "        if txt not in listStopwords:\n",
        "            filtered.append(txt)\n",
        "    text = filtered \n",
        "    return text\n",
        "\n",
        "def toSentence(list_words): # Convert list of words into sentence\n",
        "    sentence = ' '.join(word for word in list_words)\n",
        "    return sentence"
      ],
      "metadata": {
        "id": "jfaIZaiBD_Fd"
      },
      "execution_count": 81,
      "outputs": []
    },
    {
      "cell_type": "code",
      "source": [
        "# Preprocessing tweets data\n",
        "\n",
        "df['text_clean'] = df['text'].apply(cleaningText)\n",
        "df['text_clean'] = df['text_clean'].apply(casefoldingText)\n",
        "df.drop(['text'], axis = 1, inplace = True)\n",
        "\n",
        "df['text_preprocessed'] = df['text_clean'].apply(tokenizingText)\n",
        "df['text_preprocessed'] = df['text_preprocessed'].apply(filteringText)\n",
        "df['tweets'] = df['text_preprocessed'].apply(toSentence)\n",
        "\n",
        "# drop duplicates/spams tweets\n",
        "df.drop_duplicates(subset = 'tweets', inplace = True)\n",
        "\n",
        "df.drop(['text_clean', 'text_preprocessed'], axis = 1, inplace = True)"
      ],
      "metadata": {
        "id": "tmh1lQDhKHF8"
      },
      "execution_count": 82,
      "outputs": []
    },
    {
      "cell_type": "code",
      "source": [
        "df.count()"
      ],
      "metadata": {
        "colab": {
          "base_uri": "https://localhost:8080/"
        },
        "id": "9FPp6DsXum87",
        "outputId": "e4b932ef-0b32-40c4-a527-ca5c326fbdd1"
      },
      "execution_count": 83,
      "outputs": [
        {
          "output_type": "execute_result",
          "data": {
            "text/plain": [
              "username          693\n",
              "tweetcreatedts    693\n",
              "tweets            693\n",
              "dtype: int64"
            ]
          },
          "metadata": {},
          "execution_count": 83
        }
      ]
    },
    {
      "cell_type": "markdown",
      "source": [
        "#Labeling Data"
      ],
      "metadata": {
        "id": "wCp2O2hCkYRx"
      }
    },
    {
      "cell_type": "code",
      "source": [
        "from textblob import TextBlob\n",
        "def sentiment_calc(tweets):\n",
        "    p = TextBlob(tweets).sentiment.polarity\n",
        "    if p<0 :\n",
        "        return(\"negatif\")\n",
        "    elif p>0 :\n",
        "        return(\"positif\")\n",
        "    else:\n",
        "        return(\"netral\")\n",
        "\n",
        "df['sentiment'] = df['tweets'].apply(sentiment_calc)"
      ],
      "metadata": {
        "id": "DBsht6MNKfSy"
      },
      "execution_count": 84,
      "outputs": []
    },
    {
      "cell_type": "code",
      "source": [
        "df[\"sentiment\"].describe()"
      ],
      "metadata": {
        "colab": {
          "base_uri": "https://localhost:8080/"
        },
        "id": "8XjELIzwPcTQ",
        "outputId": "d753ca68-1af6-4b65-ae1c-567dc18a239f"
      },
      "execution_count": 85,
      "outputs": [
        {
          "output_type": "execute_result",
          "data": {
            "text/plain": [
              "count        693\n",
              "unique         3\n",
              "top       netral\n",
              "freq         626\n",
              "Name: sentiment, dtype: object"
            ]
          },
          "metadata": {},
          "execution_count": 85
        }
      ]
    },
    {
      "cell_type": "code",
      "source": [
        "filename = 'preprocessed_tweets.csv'\n",
        "df.to_csv(filename, index=False)"
      ],
      "metadata": {
        "id": "SENXkt6tlLTt"
      },
      "execution_count": 86,
      "outputs": []
    },
    {
      "cell_type": "markdown",
      "source": [
        "#DataFrame Pyspark SQL"
      ],
      "metadata": {
        "id": "L6DuQedboEhN"
      }
    },
    {
      "cell_type": "code",
      "source": [
        "df = sqlContext.read.format('com.databricks.spark.csv').options(header='true', inferschema='true').load('/content/preprocessed_tweets.csv')\n",
        "type(df)"
      ],
      "metadata": {
        "colab": {
          "base_uri": "https://localhost:8080/"
        },
        "id": "rKTgQB8GoP3h",
        "outputId": "d89911bf-89ab-48d3-8bb4-46a6cbedb6d4"
      },
      "execution_count": 87,
      "outputs": [
        {
          "output_type": "execute_result",
          "data": {
            "text/plain": [
              "pyspark.sql.dataframe.DataFrame"
            ]
          },
          "metadata": {},
          "execution_count": 87
        }
      ]
    },
    {
      "cell_type": "code",
      "source": [
        "df.show(5)"
      ],
      "metadata": {
        "colab": {
          "base_uri": "https://localhost:8080/"
        },
        "id": "Kc3iK4pCqLb3",
        "outputId": "fd88f6bf-8579-4e0e-82c4-883cd2de85a9"
      },
      "execution_count": 88,
      "outputs": [
        {
          "output_type": "stream",
          "name": "stdout",
          "text": [
            "+--------------+-------------------+--------------------+---------+\n",
            "|      username|     tweetcreatedts|              tweets|sentiment|\n",
            "+--------------+-------------------+--------------------+---------+\n",
            "|     gwenkyute|2022-06-04 23:59:44|kata siapa ekonom...|   netral|\n",
            "|UrGirl_404Eror|2022-06-04 23:59:40|setelah tau jeno ...|   netral|\n",
            "|lefthandtrader|2022-06-04 23:59:03|klu hadir di parl...|   netral|\n",
            "|  TabananHumas|2022-06-04 23:58:46|disiplin prokes a...|   netral|\n",
            "|  TabananHumas|2022-06-04 23:58:37|ayo vaksinasi boo...|   netral|\n",
            "+--------------+-------------------+--------------------+---------+\n",
            "only showing top 5 rows\n",
            "\n"
          ]
        }
      ]
    },
    {
      "cell_type": "code",
      "source": [
        "df = df.dropna()\n",
        "df.count()"
      ],
      "metadata": {
        "colab": {
          "base_uri": "https://localhost:8080/"
        },
        "id": "9-HcG6fbqO8l",
        "outputId": "323e7aaf-8e8b-498a-dba9-9745c747ae28"
      },
      "execution_count": 89,
      "outputs": [
        {
          "output_type": "execute_result",
          "data": {
            "text/plain": [
              "693"
            ]
          },
          "metadata": {},
          "execution_count": 89
        }
      ]
    },
    {
      "cell_type": "markdown",
      "source": [
        "#Split Train Test"
      ],
      "metadata": {
        "id": "IgVW4YBStJmJ"
      }
    },
    {
      "cell_type": "code",
      "source": [
        "df.describe()"
      ],
      "metadata": {
        "colab": {
          "base_uri": "https://localhost:8080/"
        },
        "id": "v6-MZb1muDfE",
        "outputId": "ad7f62e9-bc67-4198-ee0e-c8cf35cdad79"
      },
      "execution_count": 90,
      "outputs": [
        {
          "output_type": "execute_result",
          "data": {
            "text/plain": [
              "DataFrame[summary: string, username: string, tweetcreatedts: string, tweets: string, sentiment: string]"
            ]
          },
          "metadata": {},
          "execution_count": 90
        }
      ]
    },
    {
      "cell_type": "code",
      "source": [
        "(train_set, val_set, test_set) = df.randomSplit([0.80, 0.10, 0.10], seed = 1103)"
      ],
      "metadata": {
        "id": "XI6Yrxm-qZEd"
      },
      "execution_count": 91,
      "outputs": []
    },
    {
      "cell_type": "markdown",
      "source": [
        "#HashingTF + IDF + Logistic Regression"
      ],
      "metadata": {
        "id": "KYEAOHlLqjSp"
      }
    },
    {
      "cell_type": "code",
      "source": [
        "from pyspark.ml.feature import HashingTF, IDF, Tokenizer\n",
        "from pyspark.ml.feature import StringIndexer\n",
        "from pyspark.ml import Pipeline\n",
        "\n",
        "tokenizer = Tokenizer(inputCol=\"tweets\", outputCol=\"words\")\n",
        "hashtf = HashingTF(numFeatures=262144, inputCol=\"words\", outputCol='tf')\n",
        "idf = IDF(inputCol='tf', outputCol=\"features\", minDocFreq=5) #minDocFreq: remove sparse terms\n",
        "label_stringIdx = StringIndexer(inputCol = \"sentiment\", outputCol = \"label\")\n",
        "pipeline = Pipeline(stages=[tokenizer, hashtf, idf, label_stringIdx])\n",
        "\n",
        "pipelineFit = pipeline.fit(train_set)\n",
        "train_df = pipelineFit.transform(train_set)\n",
        "val_df = pipelineFit.transform(val_set)\n",
        "train_df.show(5)"
      ],
      "metadata": {
        "colab": {
          "base_uri": "https://localhost:8080/"
        },
        "id": "62YThi7jqmjo",
        "outputId": "e53be287-dabe-4633-f9a8-4191bbce58a3"
      },
      "execution_count": 92,
      "outputs": [
        {
          "output_type": "stream",
          "name": "stdout",
          "text": [
            "+--------+-------------------+--------------------+---------+--------------------+--------------------+--------------------+-----+\n",
            "|username|     tweetcreatedts|              tweets|sentiment|               words|                  tf|            features|label|\n",
            "+--------+-------------------+--------------------+---------+--------------------+--------------------+--------------------+-----+\n",
            "| 0509Kab|2022-06-04 13:29:32|kegiatan doa keba...|   netral|[kegiatan, doa, k...|(262144,[11395,20...|(262144,[11395,20...|  0.0|\n",
            "|   07TO_|2022-06-04 22:38:27|loona kalo perfor...|  negatif|[loona, kalo, per...|(262144,[6121,113...|(262144,[6121,113...|  2.0|\n",
            "|095pages|2022-06-04 13:29:54|happy ketemu teme...|  positif|[happy, ketemu, t...|(262144,[5394,113...|(262144,[5394,113...|  1.0|\n",
            "| 1224ist|2022-06-04 12:54:41| aku ga covid anjing|   netral|[aku, ga, covid, ...|(262144,[11395,36...|(262144,[11395,36...|  0.0|\n",
            "|   18v92|2022-06-04 18:30:41|yg nombokin penur...|   netral|[yg, nombokin, pe...|(262144,[6800,735...|(262144,[6800,735...|  0.0|\n",
            "+--------+-------------------+--------------------+---------+--------------------+--------------------+--------------------+-----+\n",
            "only showing top 5 rows\n",
            "\n"
          ]
        }
      ]
    },
    {
      "cell_type": "code",
      "source": [
        "from pyspark.ml.classification import LogisticRegression\n",
        "lr = LogisticRegression(maxIter=100)\n",
        "lrModel = lr.fit(train_df)\n",
        "predictions = lrModel.transform(val_df)\n",
        "from pyspark.ml.evaluation import MulticlassClassificationEvaluator\n",
        "evaluator = MulticlassClassificationEvaluator()\n",
        "evaluator.evaluate(predictions)"
      ],
      "metadata": {
        "colab": {
          "base_uri": "https://localhost:8080/"
        },
        "id": "7MG1Eoy8CNNR",
        "outputId": "400f9c34-8c61-4fc5-a2d1-5b7e08b148d0"
      },
      "execution_count": 93,
      "outputs": [
        {
          "output_type": "execute_result",
          "data": {
            "text/plain": [
              "0.8306459868959869"
            ]
          },
          "metadata": {},
          "execution_count": 93
        }
      ]
    },
    {
      "cell_type": "code",
      "source": [
        "%%time\n",
        "from pyspark.ml.feature import CountVectorizer\n",
        "\n",
        "tokenizer = Tokenizer(inputCol=\"tweets\", outputCol=\"words\")\n",
        "cv = CountVectorizer(vocabSize=262144, inputCol=\"words\", outputCol='cv')\n",
        "idf = IDF(inputCol='cv', outputCol=\"features\", minDocFreq=5) #minDocFreq: remove sparse terms\n",
        "label_stringIdx = StringIndexer(inputCol = \"sentiment\", outputCol = \"label\")\n",
        "lr = LogisticRegression(maxIter=100)\n",
        "pipeline = Pipeline(stages=[tokenizer, cv, idf, label_stringIdx, lr])\n",
        "\n",
        "pipelineFit = pipeline.fit(train_set)\n",
        "predictions = pipelineFit.transform(val_set)\n",
        "Taccuracy = predictions.filter(predictions.label == predictions.prediction).count() / float(val_set.count())\n",
        "Troc_auc = evaluator.evaluate(predictions)\n",
        "\n",
        "print (\"Accuracy Score: {0:.4f}\".format(Taccuracy))\n",
        "print (\"ROC-AUC: {0:.4f}\".format(Troc_auc))"
      ],
      "metadata": {
        "colab": {
          "base_uri": "https://localhost:8080/"
        },
        "id": "7Vdvb_yq7ZDK",
        "outputId": "d42a625e-3155-406a-b7f3-043d9496eb75"
      },
      "execution_count": 94,
      "outputs": [
        {
          "output_type": "stream",
          "name": "stdout",
          "text": [
            "Accuracy Score: 0.7969\n",
            "ROC-AUC: 0.8306\n",
            "CPU times: user 99.6 ms, sys: 12.7 ms, total: 112 ms\n",
            "Wall time: 3.86 s\n"
          ]
        }
      ]
    },
    {
      "cell_type": "code",
      "source": [
        "accuracy = predictions.filter(predictions.label == predictions.prediction).count() / float(val_set.count())\n",
        "accuracy"
      ],
      "metadata": {
        "colab": {
          "base_uri": "https://localhost:8080/"
        },
        "id": "HFDZy1o7WShx",
        "outputId": "69878df9-50b3-4cf4-d91a-d53b35021058"
      },
      "execution_count": 95,
      "outputs": [
        {
          "output_type": "execute_result",
          "data": {
            "text/plain": [
              "0.796875"
            ]
          },
          "metadata": {},
          "execution_count": 95
        }
      ]
    },
    {
      "cell_type": "markdown",
      "source": [
        "#CountVectorizer + IDF + Logistic Regression"
      ],
      "metadata": {
        "id": "L9Vl1S1SWhnI"
      }
    },
    {
      "cell_type": "code",
      "source": [
        "%%time\n",
        "from pyspark.ml.feature import CountVectorizer\n",
        "\n",
        "tokenizer = Tokenizer(inputCol=\"tweets\", outputCol=\"words\")\n",
        "cv = CountVectorizer(vocabSize=262144, inputCol=\"words\", outputCol='cv')\n",
        "idf = IDF(inputCol='cv', outputCol=\"features\", minDocFreq=5) #minDocFreq: remove sparse terms\n",
        "label_stringIdx = StringIndexer(inputCol = \"sentiment\", outputCol = \"label\")\n",
        "lr = LogisticRegression(maxIter=100)\n",
        "pipeline = Pipeline(stages=[tokenizer, cv, idf, label_stringIdx, lr])\n",
        "\n",
        "pipelineFit = pipeline.fit(train_set)\n",
        "predictions = pipelineFit.transform(val_set)\n",
        "Caccuracy = predictions.filter(predictions.label == predictions.prediction).count() / float(val_set.count())\n",
        "Croc_auc = evaluator.evaluate(predictions)\n",
        "\n",
        "print (\"Accuracy Score: {0:.4f}\".format(Caccuracy))\n",
        "print (\"ROC-AUC: {0:.4f}\".format(Croc_auc))"
      ],
      "metadata": {
        "colab": {
          "base_uri": "https://localhost:8080/"
        },
        "id": "bAb9iqlNWkHM",
        "outputId": "d10263f1-407b-49ec-9f2a-6af86e4dd84d"
      },
      "execution_count": 96,
      "outputs": [
        {
          "output_type": "stream",
          "name": "stdout",
          "text": [
            "Accuracy Score: 0.7969\n",
            "ROC-AUC: 0.8306\n",
            "CPU times: user 111 ms, sys: 13.2 ms, total: 125 ms\n",
            "Wall time: 3.83 s\n"
          ]
        }
      ]
    },
    {
      "cell_type": "markdown",
      "source": [
        "#N Gram"
      ],
      "metadata": {
        "id": "sbJsZlbSW_Ky"
      }
    },
    {
      "cell_type": "code",
      "source": [
        "from pyspark.ml.feature import NGram, VectorAssembler\n",
        "from pyspark.ml.feature import ChiSqSelector\n",
        "\n",
        "def build_trigrams(inputCol=[\"tweets\",\"sentiment\"], n=3):\n",
        "    tokenizer = [Tokenizer(inputCol=\"tweets\", outputCol=\"words\")]\n",
        "    ngrams = [\n",
        "        NGram(n=i, inputCol=\"words\", outputCol=\"{0}_grams\".format(i))\n",
        "        for i in range(1, n + 1)\n",
        "    ]\n",
        "\n",
        "    cv = [\n",
        "        CountVectorizer(vocabSize=262144,inputCol=\"{0}_grams\".format(i),\n",
        "            outputCol=\"{0}_tf\".format(i))\n",
        "        for i in range(1, n + 1)\n",
        "    ]\n",
        "    idf = [IDF(inputCol=\"{0}_tf\".format(i), outputCol=\"{0}_tfidf\".format(i), minDocFreq=5) for i in range(1, n + 1)]\n",
        "\n",
        "    assembler = [VectorAssembler(\n",
        "        inputCols=[\"{0}_tfidf\".format(i) for i in range(1, n + 1)],\n",
        "        outputCol=\"rawFeatures\"\n",
        "    )]\n",
        "    label_stringIdx = [StringIndexer(inputCol = \"sentiment\", outputCol = \"label\")]\n",
        "    selector = [ChiSqSelector(numTopFeatures=50,featuresCol='rawFeatures', outputCol=\"features\")]\n",
        "    lr = [LogisticRegression(maxIter=100)]\n",
        "    return Pipeline(stages=tokenizer + ngrams + cv + idf+ assembler + label_stringIdx+selector+lr)"
      ],
      "metadata": {
        "id": "UJwcvzACW9fH"
      },
      "execution_count": 97,
      "outputs": []
    },
    {
      "cell_type": "code",
      "source": [
        "%%time\n",
        "trigram_pipelineFit = build_trigrams().fit(train_set)\n",
        "predictions = trigram_pipelineFit.transform(val_set)\n",
        "Naccuracy = predictions.filter(predictions.label == predictions.prediction).count() / float(val_set.count())\n",
        "Nroc_auc = evaluator.evaluate(predictions)\n",
        "# print accuracy, roc_auc\n",
        "print (\"Accuracy Score: {0:.4f}\".format(Naccuracy))\n",
        "print (\"ROC-AUC: {0:.4f}\".format(Nroc_auc))"
      ],
      "metadata": {
        "colab": {
          "base_uri": "https://localhost:8080/"
        },
        "id": "9s3abJmoXRss",
        "outputId": "5ccb1279-68f0-4395-e7a0-30fc1f937d5b"
      },
      "execution_count": 98,
      "outputs": [
        {
          "output_type": "stream",
          "name": "stdout",
          "text": [
            "Accuracy Score: 0.8750\n",
            "ROC-AUC: 0.8744\n",
            "CPU times: user 363 ms, sys: 45.4 ms, total: 408 ms\n",
            "Wall time: 24.7 s\n"
          ]
        }
      ]
    },
    {
      "cell_type": "markdown",
      "source": [
        "#N Gram Tanpa without Chi Squared feature selection"
      ],
      "metadata": {
        "id": "eUc5PrdxpuGe"
      }
    },
    {
      "cell_type": "code",
      "source": [
        "def build_ngrams_wocs(inputCol=[\"tweets\",\"sentiment\"], n=3):\n",
        "    tokenizer = [Tokenizer(inputCol=\"tweets\", outputCol=\"words\")]\n",
        "    ngrams = [\n",
        "        NGram(n=i, inputCol=\"words\", outputCol=\"{0}_grams\".format(i))\n",
        "        for i in range(1, n + 1)\n",
        "    ]\n",
        "\n",
        "    cv = [\n",
        "        CountVectorizer(vocabSize=262144,inputCol=\"{0}_grams\".format(i),\n",
        "            outputCol=\"{0}_tf\".format(i))\n",
        "        for i in range(1, n + 1)\n",
        "    ]\n",
        "    idf = [IDF(inputCol=\"{0}_tf\".format(i), outputCol=\"{0}_tfidf\".format(i), minDocFreq=5) for i in range(1, n + 1)]\n",
        "\n",
        "    assembler = [VectorAssembler(\n",
        "        inputCols=[\"{0}_tfidf\".format(i) for i in range(1, n + 1)],\n",
        "        outputCol=\"features\"\n",
        "    )]\n",
        "    label_stringIdx = [StringIndexer(inputCol = \"sentiment\", outputCol = \"label\")]\n",
        "    lr = [LogisticRegression(maxIter=100)]\n",
        "    return Pipeline(stages=tokenizer + ngrams + cv + idf+ assembler + label_stringIdx+lr)"
      ],
      "metadata": {
        "id": "1A6ik8UHpuVO"
      },
      "execution_count": 99,
      "outputs": []
    },
    {
      "cell_type": "code",
      "source": [
        "%%time\n",
        "trigramwocs_pipelineFit = build_ngrams_wocs().fit(train_set)\n",
        "predictions_wocs = trigramwocs_pipelineFit.transform(val_set)\n",
        "accuracy_wocs = predictions_wocs.filter(predictions_wocs.label == predictions_wocs.prediction).count() / float(val_set.count())\n",
        "roc_auc_wocs = evaluator.evaluate(predictions_wocs)\n",
        "# print accuracy, roc_auc\n",
        "print (\"Accuracy Score: {0:.4f}\".format(accuracy_wocs))\n",
        "print (\"ROC-AUC: {0:.4f}\".format(roc_auc_wocs))"
      ],
      "metadata": {
        "colab": {
          "base_uri": "https://localhost:8080/"
        },
        "id": "t-ibHagTpram",
        "outputId": "afbc6566-6d23-45d6-b171-4437ada98a9b"
      },
      "execution_count": 100,
      "outputs": [
        {
          "output_type": "stream",
          "name": "stdout",
          "text": [
            "Accuracy Score: 0.7656\n",
            "ROC-AUC: 0.8124\n",
            "CPU times: user 316 ms, sys: 44.3 ms, total: 360 ms\n",
            "Wall time: 15.8 s\n"
          ]
        }
      ]
    },
    {
      "cell_type": "code",
      "source": [
        "test_predictions = trigramwocs_pipelineFit.transform(test_set)\n",
        "test_accuracy = test_predictions.filter(test_predictions.label == test_predictions.prediction).count() / float(test_set.count())\n",
        "test_roc_auc = evaluator.evaluate(test_predictions)\n",
        "# print accuracy, roc_auc\n",
        "print (\"Accuracy Score: {0:.4f}\".format(test_accuracy))\n",
        "print (\"ROC-AUC: {0:.4f}\".format(test_roc_auc))"
      ],
      "metadata": {
        "colab": {
          "base_uri": "https://localhost:8080/"
        },
        "id": "JxGY6kv-pUMK",
        "outputId": "6093eece-2109-47b5-90d8-189c548e7706"
      },
      "execution_count": 101,
      "outputs": [
        {
          "output_type": "stream",
          "name": "stdout",
          "text": [
            "Accuracy Score: 0.7581\n",
            "ROC-AUC: 0.7825\n"
          ]
        }
      ]
    },
    {
      "cell_type": "markdown",
      "source": [
        "#Visualisasi Sentimen Tweet Bahasa Indonesia Mengenai Covid"
      ],
      "metadata": {
        "id": "OFjvh4ip_8jw"
      }
    },
    {
      "cell_type": "code",
      "source": [
        "import pyspark.sql.functions as func\n",
        "sentiment = df.groupBy('sentiment').count().select(func.col(\"sentiment\").alias(\"distinct_sentiment\"),func.col(\"count\").alias(\"country_sentiment\"))\n",
        "sentiment.show()"
      ],
      "metadata": {
        "colab": {
          "base_uri": "https://localhost:8080/"
        },
        "id": "C6jLiF5FFAa3",
        "outputId": "d67f22ac-3f89-4f8a-ca8d-33c604240114"
      },
      "execution_count": 102,
      "outputs": [
        {
          "output_type": "stream",
          "name": "stdout",
          "text": [
            "+------------------+-----------------+\n",
            "|distinct_sentiment|country_sentiment|\n",
            "+------------------+-----------------+\n",
            "|           negatif|               25|\n",
            "|           positif|               42|\n",
            "|            netral|              626|\n",
            "+------------------+-----------------+\n",
            "\n"
          ]
        }
      ]
    },
    {
      "cell_type": "code",
      "source": [
        "sentiment.write.parquet(\"/senti.parquet\")"
      ],
      "metadata": {
        "id": "mMAxMarhntjF"
      },
      "execution_count": 104,
      "outputs": []
    },
    {
      "cell_type": "code",
      "source": [
        "import matplotlib.pyplot as plt\n",
        "\n",
        "senti = sentiment.toPandas()\n",
        "\n",
        "fig = plt.pie(senti['country_sentiment'], labels=senti['distinct_sentiment'], autopct='%.0f%%')\n",
        "plt.title('Perbandingan Sentiment Tweet Bahasa Indonesia Mengenai Covid')\n",
        "plt.show()  "
      ],
      "metadata": {
        "colab": {
          "base_uri": "https://localhost:8080/",
          "height": 264
        },
        "id": "zPseAHX5Nigf",
        "outputId": "6aab465e-f7cf-4f5d-db45-c6265a4440e6"
      },
      "execution_count": 105,
      "outputs": [
        {
          "output_type": "display_data",
          "data": {
            "text/plain": [
              "<Figure size 432x288 with 1 Axes>"
            ],
            "image/png": "[encoded data removed]"
          },
          "metadata": {}
        }
      ]
    },
    {
      "cell_type": "code",
      "source": [
        "# from google.colab import files\n",
        "# files.download(\"/content/preprocessed_tweets.csv\")\n",
        "# files.download(\"/content/reviews.csv\")\n",
        "# files.download(\"/content/stopwords-id.txt\")"
      ],
      "metadata": {
        "id": "TAf_oaVJ2F2t"
      },
      "execution_count": 107,
      "outputs": []
    },
    {
      "cell_type": "code",
      "source": [
        "spark.stop()"
      ],
      "metadata": {
        "id": "HNuazkjVPKeB"
      },
      "execution_count": 106,
      "outputs": []
    }
  ]
}